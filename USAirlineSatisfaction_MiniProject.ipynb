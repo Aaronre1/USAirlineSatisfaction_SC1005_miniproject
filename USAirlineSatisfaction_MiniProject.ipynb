{
 "cells": [
  {
   "cell_type": "markdown",
   "id": "aea72987",
   "metadata": {},
   "source": [
    "# US Airline Satisfaction Mini Project \n",
    "\n",
    "In this Project, we would like to peform some analysis on a dataset of __[US Airline passenger satisfaction survey](https://www.kaggle.com/datasets/najibmh/us-airline-passenger-satisfaction-survey?resource=download)__.\n",
    "\n",
    "## Contents\n",
    "- [Problem](#problem)\n",
    "- [Data Preparation](#data-preparation)\n",
    "- [Exploratory Analysis](#exploratory-analysis)\n",
    "- [Sampling](#sampling)\n",
    "\n",
    "---"
   ]
  },
  {
   "cell_type": "markdown",
   "id": "e6465bbf",
   "metadata": {},
   "source": [
    "<a id=\"problem\"></a>\n",
    "## Problem\n",
    "Based on passenger ratings, we would like to find out how the different indivudal ratings affect the passenger's final decision for a _satisfied_ or _unsatisfied_ with the service provided by US Airline.\n",
    "\n",
    "**Specifically**:\n",
    "1. Can we predict if customer would be satified?\n",
    "1. What are the most important factors that affect customer satisfaction?\n",
    "\n",
    "---"
   ]
  },
  {
   "cell_type": "markdown",
   "id": "6fd6a7e3",
   "metadata": {},
   "source": [
    "<a id=\"data-preparation\"></a>\n",
    "## Data Preparation\n",
    "\n",
    "### Essential Libraries\n",
    "\n",
    "Let us begin by importing the essential Python Libraries.\n",
    "\n",
    "> NumPy : Library for Numeric Computations in Python  \n",
    "> Pandas : Library for Data Acquisition and Preparation  \n",
    "> Matplotlib : Low-level library for Data Visualization  \n",
    "> Seaborn : Higher-level library for Data Visualization  "
   ]
  },
  {
   "cell_type": "code",
   "execution_count": null,
   "id": "b04a68fa",
   "metadata": {},
   "outputs": [],
   "source": [
    "# Basic Libraries\n",
    "import numpy as np\n",
    "import pandas as pd\n",
    "import seaborn as sb\n",
    "import matplotlib.pyplot as plt\n",
    "sb.set() # set the default Seaborn style for graphics"
   ]
  },
  {
   "cell_type": "markdown",
   "id": "e08701de",
   "metadata": {},
   "source": [
    "### Import the Dataset\n",
    "Source: __[US Airline passenger satisfaction survey](https://www.kaggle.com/datasets/najibmh/us-airline-passenger-satisfaction-survey?resource=download)__\n",
    "\n",
    "Attached file: `satisfaction_v2.csv`  "
   ]
  },
  {
   "cell_type": "code",
   "execution_count": null,
   "id": "d8ddc3b3",
   "metadata": {},
   "outputs": [],
   "source": [
    "satisfactionData = pd.read_csv('satisfaction.csv')\n",
    "satisfactionData.head()"
   ]
  },
  {
   "cell_type": "code",
   "execution_count": null,
   "id": "9ec20906",
   "metadata": {},
   "outputs": [],
   "source": [
    "satisfactionData.info()"
   ]
  },
  {
   "cell_type": "markdown",
   "id": "c663c464",
   "metadata": {},
   "source": [
    "#### Initial Observations\n",
    "* There are `24` columns and `129880` rows in the dataset.   \n",
    "* The response variable seems to be `satisfaction_v2`.\n",
    "* The following `5` columns are non-predictor/unlikly to be predictors: ID, Gender, Customer Type, Age and Type of Travel.\n",
    "* The remaining `18` columns are potential predictor variables.\n",
    "\n",
    "#### Predictor Variables\n",
    "* There are `16` variables identified as `int64` by default. But it seems like only `Flight Distance` and `Departure Delay in Minutes` are actually numeric. The remaining `14` variables are ratings from 0 to 5 and should be considered as Categorical.\n",
    "* The `Arrivial Delay in Minutes` variable identified as `float64` by default, and it seems to be Numeric.\n",
    "* The`Class` variable identified as `object` by default, and are most likely Categorical.  \n",
    "* We noted that `Arrivial Delay in Minutes` seems to be missing some values.\n",
    "\n",
    "### Dataset Cleaning"
   ]
  },
  {
   "cell_type": "markdown",
   "id": "f4c38e00",
   "metadata": {},
   "source": [
    "<div class=\"alert alert-block alert-info\">\n",
    "    <b>Missing Values: </b> It's noted that <code>Arrivial Delay in Minutes</code> has count <code>129487</code> instead of <code>129880</code>. This is due to it containing <code>NULL</code> values. We will replace them with <code>0</code> here.\n",
    "</div>"
   ]
  },
  {
   "cell_type": "code",
   "execution_count": null,
   "id": "bbfd2d29",
   "metadata": {
    "scrolled": false
   },
   "outputs": [],
   "source": [
    "# Check count\n",
    "satisfactionData['Arrival Delay in Minutes'].count()"
   ]
  },
  {
   "cell_type": "code",
   "execution_count": null,
   "id": "55b57042",
   "metadata": {},
   "outputs": [],
   "source": [
    "satisfactionData['Arrival Delay in Minutes'].fillna(value=0, inplace=True)\n",
    "# Check count\n",
    "satisfactionData['Arrival Delay in Minutes'].count()"
   ]
  },
  {
   "cell_type": "markdown",
   "id": "bd689d03",
   "metadata": {},
   "source": [
    "<div class=\"alert alert-block alert-info\">\n",
    "    Check that the <code>id</code>s are unique. \n",
    "</div>"
   ]
  },
  {
   "cell_type": "code",
   "execution_count": null,
   "id": "cef2c82b",
   "metadata": {},
   "outputs": [],
   "source": [
    "len(satisfactionData[\"id\"].unique())"
   ]
  },
  {
   "cell_type": "markdown",
   "id": "784285c2",
   "metadata": {},
   "source": [
    "<div class=\"alert alert-block alert-info\">\n",
    "    <b>Ordinal Categorical Variables</b><br>\n",
    "    Most ordinal categorical variables are rating types in the <code>int</code> form. No conversion required. <br>\n",
    "    But we will convert for <code>non-int</code> types <code>Class</code> and <code>Customer Type</code> in \n",
    "    <a href=\"#exploratory-analysis\">Exploratory Analysis</a>\n",
    "</div>"
   ]
  },
  {
   "cell_type": "markdown",
   "id": "6d9d61a6",
   "metadata": {},
   "source": [
    "---\n",
    "<a id=\"exploratory-analysis\"></a>\n",
    "## Exploratory Analysis\n",
    "\n",
    "### Response Variable\n",
    "Lets take a look at the response variable `satisfaction_v2`."
   ]
  },
  {
   "cell_type": "code",
   "execution_count": null,
   "id": "b4b96f95",
   "metadata": {},
   "outputs": [],
   "source": [
    "sb.catplot(y = 'satisfaction_v2', data = satisfactionData, kind = \"count\")"
   ]
  },
  {
   "cell_type": "code",
   "execution_count": null,
   "id": "1d4ff85c",
   "metadata": {},
   "outputs": [],
   "source": [
    "countG, countB = satisfactionData['satisfaction_v2'].value_counts()\n",
    "print(\"[satisfied] : [neutral/dissatisfied] = [\", countG, \"] : [\", countB, \"]\")"
   ]
  },
  {
   "cell_type": "markdown",
   "id": "7cdf14d3",
   "metadata": {},
   "source": [
    "<div class=\"alert alert-block alert-info\">\n",
    "    The <code>satisfied</code> to <code>neutral/dissatisfied</code> ratio of <code> 71087 : 58794 </code> is acceptable. We will not perform any rebalancing. \n",
    "</div>"
   ]
  },
  {
   "cell_type": "markdown",
   "id": "2b14752e",
   "metadata": {},
   "source": [
    "### Predictor Variables\n",
    "Lets take a look at the `18` predictor variables.<br>\n",
    "We shall split them into the following subcategories.\n",
    "\n",
    "* Passenger: variables relating to the passenger.\n",
    "* Service: variables corresponding to the services provided by the airline.\n",
    "* Others: variables that are do not fall in the above categories."
   ]
  },
  {
   "cell_type": "code",
   "execution_count": null,
   "id": "1fd08f33",
   "metadata": {},
   "outputs": [],
   "source": [
    "satisfactionData.iloc[:,6:24].info()"
   ]
  },
  {
   "cell_type": "markdown",
   "id": "d60fe325",
   "metadata": {},
   "source": [
    "#### Passenger Variables\n",
    "Variables relating to the passenger. <br>\n",
    "**Categorical** : `Class` `Departure/Arrival time convenient` `Type of Travel` `Customer Type` `Gender` <br>\n",
    "**Numeric** : `Age` <br>"
   ]
  },
  {
   "cell_type": "markdown",
   "id": "4750c817",
   "metadata": {},
   "source": [
    "<div class=\"alert alert-block alert-info\">\n",
    "    <b>Class (Categorical)</b><br>\n",
    "    The class variable seems to describle the type of flight class the passenger was in.<br>\n",
    "    Since this is normally choosen by the passenger, we labeled it under <b>Passenger Variables</b><br>\n",
    "    <b>Values</b><br>\n",
    "    We observed that there are 3 unique values for <code>Class</code> variable.<br>\n",
    "    It seems like their ordinal values(ascending) are as follows:<br>\n",
    "    1: <code>Eco</code> 2: <code>Eco Plus</code> 3: <code>Business</code><br> \n",
    "    We will convert them accordingly. <br>\n",
    "    <b>Distribution</b><br>\n",
    "    The most common value is <code>Business</code> which is followed closely by <code>Eco</code>.<br>    \n",
    "    <code>Eco Plus</code> has the least distribution. <br>\n",
    "    <b>Relation</b><br>\n",
    "    <code>Business</code> class have the higest satisfied rate while passengers from <code>Eco</code> and\n",
    "    <code>Eco Plus</code> have higher neutral/disatisfied ratings.\n",
    "</div>"
   ]
  },
  {
   "cell_type": "code",
   "execution_count": null,
   "id": "1597f310",
   "metadata": {},
   "outputs": [],
   "source": [
    "print(satisfactionData['Class'].describe())\n",
    "classTypes = satisfactionData['Class'].unique()\n",
    "print(classTypes)"
   ]
  },
  {
   "cell_type": "code",
   "execution_count": null,
   "id": "892f729f",
   "metadata": {},
   "outputs": [],
   "source": [
    "from pandas.api.types import CategoricalDtype\n",
    "cat_type_class = CategoricalDtype(categories=['Eco', 'Eco Plus', 'Business'], ordered=True)\n",
    "satisfactionData['Class'] = satisfactionData[\"Class\"].astype(cat_type_class)\n",
    "satisfactionData['Class'].head()"
   ]
  },
  {
   "cell_type": "code",
   "execution_count": null,
   "id": "525b6bf9",
   "metadata": {},
   "outputs": [],
   "source": [
    "sb.catplot(x = 'Class', data = satisfactionData, kind = \"count\", aspect= 2)"
   ]
  },
  {
   "cell_type": "code",
   "execution_count": null,
   "id": "f8cf2f89",
   "metadata": {},
   "outputs": [],
   "source": [
    "sb.catplot(x='Class', data = satisfactionData, hue= 'satisfaction_v2', kind = \"count\", aspect= 2)"
   ]
  },
  {
   "cell_type": "code",
   "execution_count": null,
   "id": "fc8c445f",
   "metadata": {},
   "outputs": [],
   "source": [
    "# satisfaction_v2 vs Class\n",
    "f = plt.figure(figsize=(15, 4))\n",
    "sb.heatmap(satisfactionData.groupby(['satisfaction_v2', 'Class']).size().unstack(), \n",
    "           linewidths = 1, annot = True, fmt = 'g', annot_kws = {\"size\": 18}, cmap = \"BuGn\")"
   ]
  },
  {
   "cell_type": "markdown",
   "id": "4ec8dcd0",
   "metadata": {},
   "source": [
    "<div class=\"alert alert-block alert-info\">\n",
    "    <b>Departure/Arrival time convenient (Categorical)</b><br>\n",
    "    This variable seems to describle covenience of the flight departure and arrival times.<br>\n",
    "    Although flight timings are provided by the airline, the passenger normally pick the timeslot.<br>\n",
    "    As such, we labeled it under <b>Customer Variables</b><br>\n",
    "    <b>Values</b><br>\n",
    "    We observed that there are 6 unique values from 0 to 6.<br>\n",
    "    It is a <i>rating</i> type variable.<br>\n",
    "    <b>Distribution</b><br>\n",
    "    Rating <code>3</code> has the highest distribution followed closely by <code>2</code> and <code>4</code><br>    \n",
    "    Rating <code>0</code> has the lowest distribution. <br>\n",
    "    <b>Relation</b>\n",
    "</div>"
   ]
  },
  {
   "cell_type": "code",
   "execution_count": null,
   "id": "ef4d139f",
   "metadata": {},
   "outputs": [],
   "source": [
    "satisfactionData['Departure/Arrival time convenient'].describe()"
   ]
  },
  {
   "cell_type": "code",
   "execution_count": null,
   "id": "369f914f",
   "metadata": {},
   "outputs": [],
   "source": [
    "sb.catplot(x = 'Departure/Arrival time convenient', data = satisfactionData, kind = \"count\", aspect= 2)"
   ]
  },
  {
   "cell_type": "code",
   "execution_count": null,
   "id": "a0322d58",
   "metadata": {},
   "outputs": [],
   "source": [
    "sb.catplot(x = 'Departure/Arrival time convenient', data = satisfactionData, \n",
    "           hue=\"satisfaction_v2\", kind = \"count\", aspect= 2)"
   ]
  },
  {
   "cell_type": "code",
   "execution_count": null,
   "id": "0463f71c",
   "metadata": {},
   "outputs": [],
   "source": [
    "# satisfaction_v2 vs Departure/Arrival time convenient\n",
    "f = plt.figure(figsize=(15, 4))\n",
    "sb.heatmap(satisfactionData.groupby(['satisfaction_v2', 'Departure/Arrival time convenient']).size().unstack(), \n",
    "           linewidths = 1, annot = True, fmt = 'g', annot_kws = {\"size\": 18}, cmap = \"BuGn\")"
   ]
  },
  {
   "cell_type": "markdown",
   "id": "b7061245",
   "metadata": {},
   "source": [
    "<div class=\"alert alert-block alert-info\">\n",
    "    <b>Type of Travel (Categorical)</b><br>\n",
    "    This variable seems to describle type/purpose of travel of the passenger.<br>\n",
    "    <b>Values</b><br>\n",
    "    We observed that there are 2 unique values <code>Personal Travel</code> <code>Business travel</code> <br>\n",
    "    <b>Distribution</b><br>\n",
    "    <code>Business travel</code> has the higher distribution of 89693. <br>\n",
    "    <b>Relation</b><br>\n",
    "    <code>Business travel</code> appears to have higher satisfaction\n",
    "</div>"
   ]
  },
  {
   "cell_type": "code",
   "execution_count": null,
   "id": "af49db1b",
   "metadata": {},
   "outputs": [],
   "source": [
    "print(satisfactionData['Type of Travel'].describe())\n",
    "travelTypes = satisfactionData['Type of Travel'].unique()\n",
    "print(travelTypes)"
   ]
  },
  {
   "cell_type": "code",
   "execution_count": null,
   "id": "64bf9e95",
   "metadata": {},
   "outputs": [],
   "source": [
    "sb.catplot(x = 'Type of Travel', data = satisfactionData, kind = \"count\", \n",
    "           aspect= 2, order=['Business travel', 'Personal Travel'] )"
   ]
  },
  {
   "cell_type": "code",
   "execution_count": null,
   "id": "5fdbaff9",
   "metadata": {},
   "outputs": [],
   "source": [
    "sb.catplot(x = 'Type of Travel', data = satisfactionData, kind = \"count\", hue=\"satisfaction_v2\",\n",
    "           aspect= 2, order=['Business travel', 'Personal Travel'])"
   ]
  },
  {
   "cell_type": "code",
   "execution_count": null,
   "id": "c616dec5",
   "metadata": {},
   "outputs": [],
   "source": [
    "# satisfaction_v2 vs Customer Type\n",
    "f = plt.figure(figsize=(15, 4))\n",
    "sb.heatmap(satisfactionData.groupby(['satisfaction_v2', 'Type of Travel']).size().unstack(), \n",
    "           linewidths = 1, annot = True, fmt = 'g', annot_kws = {\"size\": 18}, cmap = \"BuGn\")"
   ]
  },
  {
   "cell_type": "markdown",
   "id": "0ffb126f",
   "metadata": {},
   "source": [
    "<div class=\"alert alert-block alert-info\">\n",
    "    <b>Customer Type (Categorical)</b><br>\n",
    "    This variable seems to describle if passenger is a loyal customer.<br>\n",
    "    <b>Values</b><br>\n",
    "    We observed that there are 2 unique values <code>Loyal Customer</code> <code>disloyal Customer</code> <br>\n",
    "    We will assign them the weights as follows: <br>\n",
    "    1: <code>disloyal Customer</code> 2: <code>Loyal Customer</code> <br>\n",
    "    <b>Distribution</b><br>\n",
    "    <code>Loyal Customer</code> has the higher distribution of 106100. <br>\n",
    "    <b>Relation</b><br>\n",
    "    <code>Loyal Customer</code> appears to have higher satisfaction rate\n",
    "</div>"
   ]
  },
  {
   "cell_type": "code",
   "execution_count": null,
   "id": "fed3ae41",
   "metadata": {},
   "outputs": [],
   "source": [
    "satisfactionData = pd.read_csv('satisfaction.csv')\n",
    "print(satisfactionData['Customer Type'].describe())\n",
    "customerTypes = satisfactionData['Customer Type'].unique()\n",
    "print(customerTypes)"
   ]
  },
  {
   "cell_type": "code",
   "execution_count": null,
   "id": "a8153cfd",
   "metadata": {},
   "outputs": [],
   "source": [
    "cat_type_customer = CategoricalDtype(categories=['disloyal Customer', 'Loyal Customer'], ordered=True)\n",
    "satisfactionData['Customer Type'] = satisfactionData['Customer Type'].astype(cat_type_customer)\n",
    "satisfactionData['Customer Type'].head()"
   ]
  },
  {
   "cell_type": "code",
   "execution_count": null,
   "id": "e537339f",
   "metadata": {},
   "outputs": [],
   "source": [
    "sb.catplot(x = 'Customer Type', data = satisfactionData, kind = \"count\", aspect= 2)"
   ]
  },
  {
   "cell_type": "code",
   "execution_count": null,
   "id": "6a931145",
   "metadata": {},
   "outputs": [],
   "source": [
    "sb.catplot(x = 'Customer Type', data = satisfactionData, \n",
    "           hue=\"satisfaction_v2\", kind = \"count\", aspect= 2)"
   ]
  },
  {
   "cell_type": "code",
   "execution_count": null,
   "id": "4777fe0e",
   "metadata": {},
   "outputs": [],
   "source": [
    "# satisfaction_v2 vs Customer Type\n",
    "f = plt.figure(figsize=(15, 4))\n",
    "sb.heatmap(satisfactionData.groupby(['satisfaction_v2', 'Customer Type']).size().unstack(), \n",
    "           linewidths = 1, annot = True, fmt = 'g', annot_kws = {\"size\": 18}, cmap = \"BuGn\")"
   ]
  },
  {
   "cell_type": "markdown",
   "id": "f6440e4a",
   "metadata": {},
   "source": [
    "#### Service Variables\n",
    "_Rating_ type variables that are affected by the service provided by the airline.<br>\n",
    "<code>Seat comfort</code> \n",
    "<code>Food and drink</code> \n",
    "<code>Inflight wifi service</code> \n",
    "<code>Inflight entertainment</code> \n",
    "<code>Online support</code> \n",
    "<code>Ease of Online booking</code> \n",
    "<code>On-board service</code> \n",
    "<code>Leg room service</code> \n",
    "<code>Baggage handling</code>\n",
    "<code>Checkin service</code>\n",
    "<code>Cleanliness</code>\n",
    "<code>Online boarding</code>"
   ]
  },
  {
   "cell_type": "code",
   "execution_count": null,
   "id": "61a57c9a",
   "metadata": {},
   "outputs": [],
   "source": []
  },
  {
   "cell_type": "code",
   "execution_count": null,
   "id": "865da373",
   "metadata": {},
   "outputs": [],
   "source": []
  },
  {
   "cell_type": "code",
   "execution_count": null,
   "id": "c55dfa43",
   "metadata": {},
   "outputs": [],
   "source": []
  },
  {
   "cell_type": "code",
   "execution_count": null,
   "id": "ce2d4630",
   "metadata": {},
   "outputs": [],
   "source": []
  },
  {
   "cell_type": "code",
   "execution_count": null,
   "id": "7bb8e907",
   "metadata": {},
   "outputs": [],
   "source": []
  },
  {
   "cell_type": "markdown",
   "id": "4977b0bf",
   "metadata": {},
   "source": [
    "#### Other Variables\n",
    "Other variables that are not related to customer or airline service. <br>\n",
    "<b>Categorical</b>: <code>Gate location </code> <br>\n",
    "<b>Numeric</b> : \n",
    "<code>Flight Distance</code> \n",
    "<code>Departure Delay in Minutes</code> \n",
    "<code>Arrival Delay in Minutes</code>"
   ]
  },
  {
   "cell_type": "markdown",
   "id": "c4c90e28",
   "metadata": {},
   "source": [
    "<div class=\"alert alert-block alert-info\">\n",
    "    <b>Gate Location (Categorical)</b><br>\n",
    "    This variable most likely represent the convenience of the gate location.<br>\n",
    "    As the airline may not choose their gate location, we did not include under service.<br>\n",
    "    <b>Values</b><br>\n",
    "    We observed that there are 6 unique values from 0 to 6.<br>\n",
    "    It is a <i>rating</i> type variable.<br>\n",
    "    <b>Distribution</b><br>\n",
    "    Rating <code>3</code> has the highest distribution. <br>\n",
    "    Rating <code>0</code> has the lowest distribution. <br>\n",
    "    <b>Relation</b><br>\n",
    "    <code>Loyal Customer</code> appears to have higher satisfaction rate\n",
    "</div>"
   ]
  },
  {
   "cell_type": "code",
   "execution_count": null,
   "id": "c8a4c324",
   "metadata": {},
   "outputs": [],
   "source": [
    "satisfactionData['Gate location'].describe()"
   ]
  },
  {
   "cell_type": "code",
   "execution_count": null,
   "id": "5740c51c",
   "metadata": {},
   "outputs": [],
   "source": [
    "f = plt.figure(figsize=(15,8))\n",
    "sb.catplot(x = 'Gate location', data = satisfactionData, kind = \"count\", aspect= 2)"
   ]
  },
  {
   "cell_type": "code",
   "execution_count": null,
   "id": "caf900c0",
   "metadata": {},
   "outputs": [],
   "source": [
    "sb.catplot(x = 'Gate location', data = satisfactionData, \n",
    "           hue=\"satisfaction_v2\", kind = \"count\", aspect= 2)"
   ]
  },
  {
   "cell_type": "code",
   "execution_count": null,
   "id": "cc292396",
   "metadata": {},
   "outputs": [],
   "source": [
    "# satisfaction_v2 vs Gate location\n",
    "f = plt.figure(figsize=(15, 4))\n",
    "sb.heatmap(satisfactionData.groupby(['satisfaction_v2', 'Gate location']).size().unstack(), \n",
    "           linewidths = 1, annot = True, fmt = 'g', annot_kws = {\"size\": 18}, cmap = \"BuGn\")"
   ]
  },
  {
   "cell_type": "markdown",
   "id": "e52ce373",
   "metadata": {},
   "source": [
    "<div class=\"alert alert-block alert-info\">\n",
    "    <b>Flight Distance (Numeric)</b><br>\n",
    "    This variable describes the flight distance most likely in miles.<br>\n",
    "    <b>Relation</b><br>\n",
    "    It appears that at below <code>1000</code> miles, satisfaction rate seems to be higher.<br>\n",
    "</div>"
   ]
  },
  {
   "cell_type": "code",
   "execution_count": null,
   "id": "60db7de0",
   "metadata": {},
   "outputs": [],
   "source": [
    "satisfactionData['Flight Distance'].describe()"
   ]
  },
  {
   "cell_type": "code",
   "execution_count": null,
   "id": "e2c4628d",
   "metadata": {},
   "outputs": [],
   "source": [
    "f, axes = plt.subplots(3, 1, figsize=(64, 32))\n",
    "sb.boxplot(data = satisfactionData['Flight Distance'], orient = \"h\", ax = axes[0])\n",
    "sb.histplot(data = satisfactionData['Flight Distance'], ax = axes[1])\n",
    "sb.violinplot(data = satisfactionData['Flight Distance'], orient = \"h\", ax = axes[2])"
   ]
  },
  {
   "cell_type": "code",
   "execution_count": null,
   "id": "5106e18a",
   "metadata": {},
   "outputs": [],
   "source": [
    "f = plt.figure(figsize=(15, 8))\n",
    "sb.boxplot(data = satisfactionData, orient = \"h\",\n",
    "          x ='Flight Distance', y = 'satisfaction_v2')"
   ]
  },
  {
   "cell_type": "code",
   "execution_count": null,
   "id": "a2bfa637",
   "metadata": {},
   "outputs": [],
   "source": [
    "f = plt.figure(figsize=(15, 8))\n",
    "sb.kdeplot(data = satisfactionData, x='Flight Distance',hue='satisfaction_v2')"
   ]
  },
  {
   "cell_type": "code",
   "execution_count": null,
   "id": "0d603237",
   "metadata": {},
   "outputs": [],
   "source": [
    "f = plt.figure(figsize=(15,8))\n",
    "sb.violinplot(data = satisfactionData, orient = 'h',\n",
    "              x = 'Flight Distance', y = 'satisfaction_v2')"
   ]
  },
  {
   "cell_type": "markdown",
   "id": "6e4ea17c",
   "metadata": {},
   "source": [
    "<div class=\"alert alert-block alert-info\">\n",
    "    <b>Departure Delay in Minutes (Numeric)</b><br>\n",
    "    We excluded <code>0</code> departure delays<br>\n",
    "</div>"
   ]
  },
  {
   "cell_type": "code",
   "execution_count": null,
   "id": "f06ff239",
   "metadata": {},
   "outputs": [],
   "source": [
    "satisfactionData['Departure Delay in Minutes'].describe()"
   ]
  },
  {
   "cell_type": "code",
   "execution_count": null,
   "id": "cfe466e8",
   "metadata": {},
   "outputs": [],
   "source": [
    "departDelayData = satisfactionData.loc[~((satisfactionData['Departure Delay in Minutes'] == 0))]\n",
    "departDelayData['Departure Delay in Minutes'].describe()"
   ]
  },
  {
   "cell_type": "code",
   "execution_count": null,
   "id": "9e3ab8c3",
   "metadata": {},
   "outputs": [],
   "source": [
    "f, axes = plt.subplots(3, 1, figsize=(64, 32))\n",
    "sb.boxplot(data = departDelayData[['Departure Delay in Minutes']], orient = \"h\", ax = axes[0])\n",
    "sb.histplot(data = departDelayData[['Departure Delay in Minutes']], ax = axes[1])\n",
    "sb.violinplot(data = departDelayData[['Departure Delay in Minutes']], orient = \"h\", ax = axes[2])\n",
    "#sb.boxplot(data = departDelayData[['Departure Delay in Minutes']], orient = \"h\",showfliers=True)"
   ]
  },
  {
   "cell_type": "markdown",
   "id": "db90417d",
   "metadata": {},
   "source": [
    "<div class=\"alert alert-block alert-info\">\n",
    "    <b>Remove outliers</b>\n",
    "</div>"
   ]
  },
  {
   "cell_type": "code",
   "execution_count": null,
   "id": "1afc160e",
   "metadata": {},
   "outputs": [],
   "source": [
    "departDelayDataClean = departDelayData[['Departure Delay in Minutes','satisfaction_v2']].copy()\n",
    "# Calculate the quartiles\n",
    "Q1 = departDelayDataClean.quantile(0.25)\n",
    "Q3 = departDelayDataClean.quantile(0.75)\n",
    "# Rule to identify outliers\n",
    "rule = ((departDelayDataClean < (Q1 - 1.5 * (Q3 - Q1))) \n",
    "        | (departDelayDataClean > (Q3 + 1.5 * (Q3 - Q1))))\n",
    "departDelayOutliers = rule.any(axis = 1)\n",
    "departDelayOutlierindices = departDelayOutliers.index[departDelayOutliers == True]\n",
    "\n",
    "# Remove the outliers based on the row indices obtained above\n",
    "departDelayDataClean.drop(axis = 0,               # 0 drops row 1 drops column\n",
    "                          index = departDelayOutlierindices, # this takes a list as input\n",
    "                          inplace = True)         # not overwritten by default \n",
    "# Check the clean data\n",
    "departDelayDataClean['Departure Delay in Minutes'].describe()"
   ]
  },
  {
   "cell_type": "code",
   "execution_count": null,
   "id": "975bed97",
   "metadata": {},
   "outputs": [],
   "source": [
    "f, axes = plt.subplots(3, 1, figsize=(64, 32))\n",
    "sb.boxplot(data = departDelayDataClean[['Departure Delay in Minutes']], orient = \"h\", ax = axes[0])\n",
    "sb.histplot(data = departDelayDataClean[['Departure Delay in Minutes']], ax = axes[1])\n",
    "sb.violinplot(data = departDelayDataClean[['Departure Delay in Minutes']], orient = \"h\", ax = axes[2])"
   ]
  },
  {
   "cell_type": "code",
   "execution_count": null,
   "id": "81169794",
   "metadata": {},
   "outputs": [],
   "source": [
    "f = plt.figure(figsize=(15, 8))\n",
    "sb.boxplot(data = departDelayDataClean, orient = \"h\",\n",
    "          x ='Departure Delay in Minutes', y = 'satisfaction_v2')"
   ]
  },
  {
   "cell_type": "code",
   "execution_count": null,
   "id": "05e319ff",
   "metadata": {},
   "outputs": [],
   "source": [
    "f = plt.figure(figsize=(15, 8))\n",
    "sb.kdeplot(data = departDelayDataClean, x='Departure Delay in Minutes',hue='satisfaction_v2')"
   ]
  },
  {
   "cell_type": "code",
   "execution_count": null,
   "id": "3172ab95",
   "metadata": {},
   "outputs": [],
   "source": [
    "f = plt.figure(figsize=(15,8))\n",
    "sb.violinplot(data = departDelayDataClean, orient = 'h',\n",
    "              x = 'Departure Delay in Minutes', y = 'satisfaction_v2')"
   ]
  },
  {
   "cell_type": "markdown",
   "id": "b9779a59",
   "metadata": {},
   "source": [
    "<div class=\"alert alert-block alert-info\">\n",
    "    <b>Arrival Delay in Minutes (Numeric)</b><br>\n",
    "    We excluded <code>0</code> departure delays<br>\n",
    "</div>"
   ]
  },
  {
   "cell_type": "code",
   "execution_count": null,
   "id": "4f78f7c5",
   "metadata": {},
   "outputs": [],
   "source": [
    "arriveDelayData = satisfactionData.loc[~((satisfactionData['Arrival Delay in Minutes'] == 0))]\n",
    "arriveDelayData['Arrival Delay in Minutes'].describe()"
   ]
  },
  {
   "cell_type": "code",
   "execution_count": null,
   "id": "351882f7",
   "metadata": {},
   "outputs": [],
   "source": [
    "arriveDelayDataClean = arriveDelayData[['Arrival Delay in Minutes','satisfaction_v2']].copy()\n",
    "# Calculate the quartiles\n",
    "adQ1 = arriveDelayDataClean.quantile(0.25)\n",
    "adQ3 = arriveDelayDataClean.quantile(0.75)\n",
    "# Rule to identify outliers\n",
    "adrule = ((arriveDelayDataClean < (adQ1 - 1.5 * (adQ3 - adQ1))) \n",
    "        | (arriveDelayDataClean > (adQ3 + 1.5 * (adQ3 - adQ1))))\n",
    "arriveDelayOutliers = adrule.any(axis = 1)\n",
    "arriveDelayOutlierindices = arriveDelayOutliers.index[arriveDelayOutliers == True]\n",
    "\n",
    "# Remove the outliers based on the row indices obtained above\n",
    "arriveDelayDataClean.drop(axis = 0,               # 0 drops row 1 drops column\n",
    "                          index = arriveDelayOutlierindices, # this takes a list as input\n",
    "                          inplace = True)         # not overwritten by default \n",
    "# Check the clean data\n",
    "arriveDelayDataClean['Arrival Delay in Minutes'].describe()"
   ]
  },
  {
   "cell_type": "code",
   "execution_count": null,
   "id": "476b0fed",
   "metadata": {},
   "outputs": [],
   "source": [
    "f, axes = plt.subplots(3, 1, figsize=(64, 32))\n",
    "sb.boxplot(data = arriveDelayDataClean[['Arrival Delay in Minutes']], orient = \"h\", ax = axes[0])\n",
    "sb.histplot(data = arriveDelayDataClean[['Arrival Delay in Minutes']], ax = axes[1])\n",
    "sb.violinplot(data = arriveDelayDataClean[['Arrival Delay in Minutes']], orient = \"h\", ax = axes[2])"
   ]
  },
  {
   "cell_type": "code",
   "execution_count": null,
   "id": "cb901904",
   "metadata": {},
   "outputs": [],
   "source": [
    "f, axes = plt.subplots(3, 1, figsize=(64, 32))\n",
    "sb.boxplot(data = arriveDelayDataClean, orient = \"h\", ax = axes[0],\n",
    "          x ='Arrival Delay in Minutes', y = 'satisfaction_v2')\n",
    "sb.kdeplot(data = arriveDelayDataClean, ax = axes[1],\n",
    "          x ='Arrival Delay in Minutes', hue = 'satisfaction_v2')\n",
    "sb.violinplot(data = arriveDelayDataClean, orient = \"h\", ax = axes[2],\n",
    "          x ='Arrival Delay in Minutes', y = 'satisfaction_v2')"
   ]
  },
  {
   "cell_type": "code",
   "execution_count": null,
   "id": "e649751f",
   "metadata": {},
   "outputs": [],
   "source": []
  },
  {
   "cell_type": "code",
   "execution_count": null,
   "id": "b853a668",
   "metadata": {},
   "outputs": [],
   "source": []
  },
  {
   "cell_type": "code",
   "execution_count": null,
   "id": "1de009d5",
   "metadata": {},
   "outputs": [],
   "source": []
  },
  {
   "cell_type": "code",
   "execution_count": null,
   "id": "9148bc6e",
   "metadata": {},
   "outputs": [],
   "source": [
    "test = satisfactionData;\n",
    "#print(test)\n",
    "scale_mapper = {0:0, 1:1, 2:2, 3:3, 4:4, 5:5}\n",
    "scaled = test[\"Seat comfort\"].replace(scale_mapper) \n",
    "\n",
    "from pandas.api.types import CategoricalDtype\n",
    "\n",
    "cat_type_ratings = CategoricalDtype(categories=[0,1,2,3,4,5], ordered=True)\n",
    "test[\"Seat comfort\"].astype(cat_type_ratings, )\n",
    "test.info()"
   ]
  },
  {
   "cell_type": "code",
   "execution_count": null,
   "id": "dbc8dd39",
   "metadata": {
    "scrolled": true
   },
   "outputs": [],
   "source": [
    "test[\"Seat comfort\"]"
   ]
  },
  {
   "cell_type": "code",
   "execution_count": null,
   "id": "6a1f0770",
   "metadata": {},
   "outputs": [],
   "source": [
    "test = pd.DataFrame(satisfactionData)\n",
    "test['Arrival Delay in Minutes'].fillna(value=0, inplace=True)"
   ]
  },
  {
   "cell_type": "code",
   "execution_count": null,
   "id": "450983f8",
   "metadata": {},
   "outputs": [],
   "source": [
    "from pandas.api.types import CategoricalDtype\n",
    "\n",
    "cat_type_ratings = CategoricalDtype(categories=[0,1,2,3,4,5], ordered=True)\n",
    "cat_type_class = CategoricalDtype(categories=['Eco', 'Eco Plus', 'Business'], ordered=True)\n",
    "\n",
    "test[\"Class\"] = test[\"Class\"].astype(cat_type_class)\n",
    "test[\"Class\"]"
   ]
  },
  {
   "cell_type": "code",
   "execution_count": null,
   "id": "f81df6b2",
   "metadata": {},
   "outputs": [],
   "source": [
    "test.iloc[:,8:22] = test.iloc[:,8:22].astype(cat_type_ratings)\n",
    "test.info()"
   ]
  },
  {
   "cell_type": "code",
   "execution_count": null,
   "id": "930394a9",
   "metadata": {},
   "outputs": [],
   "source": [
    "# Removed redundant date\n",
    "\n",
    "test = test.drop(['Gender','Customer Type','Age','Type of Travel','Class'], axis = 1)\n",
    "test.info()"
   ]
  },
  {
   "cell_type": "code",
   "execution_count": null,
   "id": "9a74e5bc",
   "metadata": {},
   "outputs": [],
   "source": [
    "from sklearn.preprocessing import OrdinalEncoder\n",
    "cats = [0,1,2,3,4,5]\n",
    "ordi = OrdinalEncoder(categories=[cats])\n",
    "ordi.fit(test[['Seat comfort']])\n"
   ]
  },
  {
   "cell_type": "code",
   "execution_count": null,
   "id": "9dd7f1a5",
   "metadata": {},
   "outputs": [],
   "source": [
    "encoded = pd.DataFrame(ordi.transform(test[['Seat comfort']]),columns=['Seat comfort'])\n",
    "encoded.info()"
   ]
  },
  {
   "cell_type": "code",
   "execution_count": null,
   "id": "eab40fe9",
   "metadata": {},
   "outputs": [],
   "source": [
    "test['Seat comfort'].unique()"
   ]
  },
  {
   "cell_type": "code",
   "execution_count": null,
   "id": "f65ef757",
   "metadata": {},
   "outputs": [],
   "source": [
    "y = pd.DataFrame(test['satisfaction_v2'])\n",
    "X = pd.DataFrame(test.drop('satisfaction_v2', axis = 1))\n",
    "dectree = DecisionTreeClassifier(max_depth = 5)  # change max_depth to experiment\n",
    "dectree.fit(X, y)\n",
    "# Plot the trained Decision Tree\n",
    "f = plt.figure(figsize=(24,24))\n",
    "plot_tree(dectree, filled=True, rounded=True, precision=0,\n",
    "          feature_names=X.columns, \n",
    "          class_names=[\"neutral or dissatisfied\",\"satisfied\"])"
   ]
  },
  {
   "cell_type": "code",
   "execution_count": null,
   "id": "a710c15a",
   "metadata": {},
   "outputs": [],
   "source": [
    "# Import essential models and functions from sklearn\n",
    "from sklearn.tree import DecisionTreeClassifier\n",
    "from sklearn.model_selection import train_test_split\n",
    "from sklearn.metrics import confusion_matrix\n",
    "from sklearn.tree import plot_tree\n",
    "\n",
    "\n",
    "# Extract Response and Predictors\n",
    "y = pd.DataFrame(test['satisfaction_v2'])\n",
    "X = pd.DataFrame(test.drop('satisfaction_v2', axis = 1))\n",
    "\n",
    "# Split the Dataset into Train and Test\n",
    "X_train, X_test, y_train, y_test = train_test_split(X, y, test_size = 0.2)\n",
    "\n",
    "# Decision Tree using Train Data\n",
    "dectree = DecisionTreeClassifier(max_depth = 3)  # change max_depth to experiment\n",
    "dectree.fit(X_train, y_train)                    # train the decision tree model\n",
    "\n",
    "# Plot the trained Decision Tree\n",
    "f = plt.figure(figsize=(24,24))\n",
    "plot_tree(dectree, filled=True, rounded=True, \n",
    "          feature_names=X_train.columns, \n",
    "          class_names=[\"neutral or dissatisfied\",\"satisfied\"])"
   ]
  }
 ],
 "metadata": {
  "kernelspec": {
   "display_name": "Python 3 (ipykernel)",
   "language": "python",
   "name": "python3"
  },
  "language_info": {
   "codemirror_mode": {
    "name": "ipython",
    "version": 3
   },
   "file_extension": ".py",
   "mimetype": "text/x-python",
   "name": "python",
   "nbconvert_exporter": "python",
   "pygments_lexer": "ipython3",
   "version": "3.9.7"
  }
 },
 "nbformat": 4,
 "nbformat_minor": 5
}
